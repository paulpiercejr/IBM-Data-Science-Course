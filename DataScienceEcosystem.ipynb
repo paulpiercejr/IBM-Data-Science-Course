{
 "cells": [
  {
   "cell_type": "markdown",
   "id": "3fb9c93d-2d97-4dd2-8cdc-195766d0f53b",
   "metadata": {},
   "source": [
    "# Data Science Tools and Ecosystem"
   ]
  },
  {
   "cell_type": "markdown",
   "id": "80a14ed8-1474-4eab-8180-c57c32f1b33d",
   "metadata": {},
   "source": [
    "In this notebook, Data Science Tools and Ecosystems are summarized."
   ]
  },
  {
   "cell_type": "markdown",
   "id": "6c4245d5-80ae-4213-b53f-7df705ff3ec5",
   "metadata": {
    "tags": []
   },
   "source": [
    "**Objectives:**\n",
    "- List popular data science tools\n",
    "- List popular data science languages\n",
    "- List commonly used data science libraries\n",
    "- Understand basics of arithmetic expressions in Python"
   ]
  },
  {
   "cell_type": "markdown",
   "id": "5132ecc5-e62d-4b7c-85ed-ff0221f131ee",
   "metadata": {},
   "source": [
    "Some of the popular languages that Data Scientists use are:\n",
    "1. Python\n",
    "2. R\n",
    "3. Java\n",
    "4. Scala\n",
    "5. Julia"
   ]
  },
  {
   "cell_type": "markdown",
   "id": "a0ea2e19-5f50-46d6-9e24-01e6a60bdea1",
   "metadata": {
    "tags": []
   },
   "source": [
    "Some of the commonly used libraries used by Data Scientists include:\n",
    "1. Pandas\n",
    "2. NumPy\n",
    "3. plotly\n",
    "4. ggplot"
   ]
  },
  {
   "cell_type": "markdown",
   "id": "836dfa70-6d93-49a3-a98b-ec6480b27d5c",
   "metadata": {},
   "source": [
    "| Data Science Tools |\n",
    "| -------------------|\n",
    "| Jupyter |\n",
    "| RStudio |\n",
    "| Apache Zeppelin |\n",
    "| Apache Spark |"
   ]
  },
  {
   "cell_type": "markdown",
   "id": "0b0ed44b-c441-470f-91ab-86770831b64b",
   "metadata": {},
   "source": [
    "### Below are a few examples of evaluating arithetic expressions in Python:"
   ]
  },
  {
   "cell_type": "code",
   "execution_count": 3,
   "id": "d48c0f0c-96b2-4089-803e-475b05e3cc22",
   "metadata": {
    "tags": []
   },
   "outputs": [
    {
     "data": {
      "text/plain": [
       "17"
      ]
     },
     "execution_count": 3,
     "metadata": {},
     "output_type": "execute_result"
    }
   ],
   "source": [
    "# This is a simple arithetic expression to multiply the add integers\n",
    "(3*4)+5"
   ]
  },
  {
   "cell_type": "code",
   "execution_count": 7,
   "id": "6f8c3886-7d3e-4ca2-816c-b7a23aa253ce",
   "metadata": {
    "tags": []
   },
   "outputs": [
    {
     "name": "stdout",
     "output_type": "stream",
     "text": [
      "3.3333333333333335\n"
     ]
    }
   ],
   "source": [
    "# This will convert 200 minutes to hours by dividing by 60\n",
    "total_minutes = 200\n",
    "hour = 60\n",
    "total_hours = total_minutes/hour\n",
    "print(total_hours)"
   ]
  },
  {
   "cell_type": "markdown",
   "id": "621667a3-1290-4482-a2f1-c0814e0ee219",
   "metadata": {
    "tags": []
   },
   "source": [
    "## Author\n",
    "Paul Pierce Jr."
   ]
  },
  {
   "cell_type": "code",
   "execution_count": null,
   "id": "83a939b0-1f47-4f1b-8f0e-1c61cdd0a51c",
   "metadata": {},
   "outputs": [],
   "source": []
  }
 ],
 "metadata": {
  "kernelspec": {
   "display_name": "Python",
   "language": "python",
   "name": "conda-env-python-py"
  },
  "language_info": {
   "codemirror_mode": {
    "name": "ipython",
    "version": 3
   },
   "file_extension": ".py",
   "mimetype": "text/x-python",
   "name": "python",
   "nbconvert_exporter": "python",
   "pygments_lexer": "ipython3",
   "version": "3.7.12"
  }
 },
 "nbformat": 4,
 "nbformat_minor": 5
}
